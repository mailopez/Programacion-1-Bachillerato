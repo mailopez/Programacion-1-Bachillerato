{
  "nbformat": 4,
  "nbformat_minor": 0,
  "metadata": {
    "colab": {
      "provenance": [],
      "authorship_tag": "ABX9TyMb0bMNzhxxINxUt146opMR",
      "include_colab_link": true
    },
    "kernelspec": {
      "name": "python3",
      "display_name": "Python 3"
    },
    "language_info": {
      "name": "python"
    }
  },
  "cells": [
    {
      "cell_type": "markdown",
      "metadata": {
        "id": "view-in-github",
        "colab_type": "text"
      },
      "source": [
        "<a href=\"https://colab.research.google.com/github/mailopez/Programacion-1-Bachillerato/blob/main/ACTIVIDAD_4.ipynb\" target=\"_parent\"><img src=\"https://colab.research.google.com/assets/colab-badge.svg\" alt=\"Open In Colab\"/></a>"
      ]
    },
    {
      "cell_type": "code",
      "execution_count": null,
      "metadata": {
        "colab": {
          "base_uri": "https://localhost:8080/"
        },
        "id": "O7koev3EmN4Y",
        "outputId": "7e076842-5e23-4fe9-fd0d-a272ccb974cf"
      },
      "outputs": [
        {
          "output_type": "stream",
          "name": "stdout",
          "text": [
            "Introduce un número: 60\n",
            "¡El número secreto es MAYOR al que has introducido!\n",
            "Introduce un número: 80\n",
            "¡El número secreto es MENOR al que has introducido!\n",
            "Introduce un número: 70\n",
            "¡El número secreto es MAYOR al que has introducido!\n",
            "Introduce un número: 75\n",
            "¡El número secreto es MAYOR al que has introducido!\n",
            "Introduce un número: 79\n",
            "¡Has ganado! :)\n"
          ]
        }
      ],
      "source": [
        "import random\n",
        "secreto = random.randint(1,100)\n",
        "x = True\n",
        "while x == True:\n",
        "  numero = int(input(\"Introduce un número: \"))\n",
        "  if numero > secreto:\n",
        "    print(\"¡El número secreto es MENOR al que has introducido!\")\n",
        "  elif numero < secreto:\n",
        "      print(\"¡El número secreto es MAYOR al que has introducido!\")\n",
        "  elif numero == secreto:\n",
        "    print(\"¡Has ganado! :)\")\n",
        "    x = False"
      ]
    },
    {
      "cell_type": "code",
      "source": [],
      "metadata": {
        "id": "xrU1VOnz6-SR"
      },
      "execution_count": null,
      "outputs": []
    }
  ]
}